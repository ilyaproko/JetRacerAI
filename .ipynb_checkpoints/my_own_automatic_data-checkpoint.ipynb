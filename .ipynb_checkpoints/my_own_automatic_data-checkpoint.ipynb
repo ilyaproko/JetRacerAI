{
 "cells": [
  {
   "cell_type": "markdown",
   "id": "exempt-insider",
   "metadata": {},
   "source": [
    "## Камера"
   ]
  },
  {
   "cell_type": "code",
   "execution_count": 1,
   "id": "collectible-double",
   "metadata": {},
   "outputs": [],
   "source": [
    "from jetcam.csi_camera import CSICamera\n",
    "# from jetcam.usb_camera import USBCamera\n",
    "\n",
    "camera = CSICamera(width=224, height=224)\n",
    "# camera = USBCamera(width=224, height=224)\n",
    "\n",
    "camera.running = True"
   ]
  },
  {
   "cell_type": "markdown",
   "id": "supreme-chick",
   "metadata": {},
   "source": [
    "## Задача"
   ]
  },
  {
   "cell_type": "code",
   "execution_count": 2,
   "id": "international-conviction",
   "metadata": {},
   "outputs": [],
   "source": [
    "import torchvision.transforms as transforms\n",
    "from xy_dataset import XYDataset\n",
    "\n",
    "TASK = 'road_following'\n",
    "\n",
    "CATEGORIES = ['apex']\n",
    "\n",
    "DATASETS = ['A', 'B', \"automatic\", \"automatic_mini\", \"automatic_observer\", \"automatic_loop\"]\n",
    "\n",
    "TRANSFORMS = transforms.Compose([\n",
    "    transforms.ColorJitter(0.2, 0.2, 0.2, 0.2),\n",
    "    transforms.Resize((224, 224)),\n",
    "    transforms.ToTensor(),\n",
    "    transforms.Normalize([0.485, 0.456, 0.406], [0.229, 0.224, 0.225])\n",
    "])\n",
    "\n",
    "datasets = {}\n",
    "for name in DATASETS:\n",
    "    datasets[name] = XYDataset(TASK + '_' + name, CATEGORIES, TRANSFORMS, random_hflip=True)"
   ]
  },
  {
   "cell_type": "markdown",
   "id": "native-treasure",
   "metadata": {},
   "source": [
    "## Controller"
   ]
  },
  {
   "cell_type": "code",
   "execution_count": 3,
   "id": "defined-three",
   "metadata": {},
   "outputs": [
    {
     "name": "stdout",
     "output_type": "stream",
     "text": [
      "Controller is made!\n"
     ]
    }
   ],
   "source": [
    "import ipywidgets.widgets as widgets\n",
    "\n",
    "controller = widgets.Controller(index=0)  # replace with index of your controller\n",
    "\n",
    "# display(controller)\n",
    "print(\"Controller is made!\")"
   ]
  },
  {
   "cell_type": "markdown",
   "id": "supported-friday",
   "metadata": {},
   "source": [
    "## Teleoperations"
   ]
  },
  {
   "cell_type": "code",
   "execution_count": 4,
   "id": "concerned-criticism",
   "metadata": {},
   "outputs": [],
   "source": [
    "from jetracer.nvidia_racecar import NvidiaRacecar\n",
    "import traitlets\n",
    "\n",
    "car = NvidiaRacecar()\n",
    "\n",
    "car.throttle_gain = 0.2\n",
    "\n",
    "car.steering_offset=0.1\n",
    "car.steering = 0\n",
    "\n",
    "left_link = traitlets.dlink((controller.axes[0], 'value'), (car, 'steering'), transform=lambda x: -x)\n",
    "right_link = traitlets.dlink((controller.axes[3], 'value'), (car, 'throttle'), transform=lambda x: x)"
   ]
  },
  {
   "cell_type": "markdown",
   "id": "assisted-christian",
   "metadata": {},
   "source": [
    "## виджеты данных"
   ]
  },
  {
   "cell_type": "code",
   "execution_count": 5,
   "id": "fatty-healthcare",
   "metadata": {},
   "outputs": [
    {
     "data": {
      "application/vnd.jupyter.widget-view+json": {
       "model_id": "a0177b78bb6149b1a0af4d64d94b0b6f",
       "version_major": 2,
       "version_minor": 0
      },
      "text/plain": [
       "VBox(children=(HBox(children=(ClickableImageWidget(value=b'\\xff\\xd8\\xff\\xe0\\x00\\x10JFIF\\x00\\x01\\x01\\x00\\x00\\x0…"
      ]
     },
     "metadata": {},
     "output_type": "display_data"
    }
   ],
   "source": [
    "import ipywidgets.widgets as widgets\n",
    "import cv2\n",
    "import ipywidgets\n",
    "import traitlets\n",
    "from IPython.display import display\n",
    "from jetcam.utils import bgr8_to_jpeg\n",
    "from jupyter_clickable_image_widget import ClickableImageWidget\n",
    "\n",
    "\n",
    "# initialize active dataset\n",
    "dataset = datasets[DATASETS[0]]\n",
    "\n",
    "# unobserve all callbacks from camera in case we are running this cell for second time\n",
    "camera.unobserve_all()\n",
    "\n",
    "# create image preview\n",
    "camera_widget = ClickableImageWidget(width=camera.width, height=camera.height)\n",
    "traitlets.dlink((camera, 'value'), (camera_widget, 'value'), transform=bgr8_to_jpeg)\n",
    "\n",
    "# create widgets\n",
    "dataset_widget = ipywidgets.Dropdown(options=DATASETS, description='dataset')\n",
    "category_widget = ipywidgets.Dropdown(options=dataset.categories, description='category')\n",
    "count_widget = ipywidgets.IntText(description='count')\n",
    "state_widget = ipywidgets.ToggleButtons(options=['stop', 'start'], description='start record data operator', value='stop')\n",
    "\n",
    "# manually update counts at initialization\n",
    "count_widget.value = dataset.get_count(category_widget.value)\n",
    "\n",
    "# sets the active dataset\n",
    "def set_dataset(change):\n",
    "    global dataset\n",
    "    dataset = datasets[change['new']]\n",
    "    count_widget.value = dataset.get_count(category_widget.value)\n",
    "dataset_widget.observe(set_dataset, names='value')\n",
    "\n",
    "# update counts when we select a new category\n",
    "def update_counts(change):\n",
    "    count_widget.value = dataset.get_count(change['new'])\n",
    "category_widget.observe(update_counts, names='value')\n",
    "\n",
    "# -------------------------------------------------------------------------------------------------------------------------- #\n",
    "\n",
    "x_slider = widgets.FloatSlider(min=-1.0, max=1.0, step=0.001, description='x (left joystick)')\n",
    "y_slider = widgets.FloatSlider(min=-1.0, max=1.0, step=0.001, description='y (right joystick)', orientation='vertical')\n",
    "count_widget = ipywidgets.IntText(description='count')\n",
    "\n",
    "# sets the active dataset\n",
    "def set_dataset(change):\n",
    "    global dataset\n",
    "    dataset = datasets[change['new']]\n",
    "    count_widget.value = dataset.get_count(category_widget.value)\n",
    "dataset_widget.observe(set_dataset, names='value')\n",
    "\n",
    "display(\n",
    "    ipywidgets.VBox([\n",
    "        ipywidgets.HBox([camera_widget, x_slider, y_slider]),\n",
    "        dataset_widget,\n",
    "        category_widget,\n",
    "        count_widget,\n",
    "        state_widget\n",
    "    ])\n",
    ")"
   ]
  },
  {
   "cell_type": "markdown",
   "id": "arabic-tooth",
   "metadata": {},
   "source": [
    "# Создание БД для работы в Python с базой данных Sqlite для записи обучающей выборки"
   ]
  },
  {
   "cell_type": "code",
   "execution_count": 6,
   "id": "electronic-electricity",
   "metadata": {},
   "outputs": [],
   "source": [
    "import sqlite3, datetime\n",
    "\n",
    "connection = sqlite3.connect('train_database.db')\n",
    "\n",
    "cursor = connection.cursor()\n",
    "\n",
    "# Создаем таблицу TrainData для сохранения данных об обучающей выборки\n",
    "cursor.execute('''\n",
    "CREATE TABLE IF NOT EXISTS TrainData (\n",
    "id INTEGER PRIMARY KEY,\n",
    "task TEXT NOT NULL,\n",
    "category TEXT NOT NULL,\n",
    "dataset TEXT NOT NULL,\n",
    "file_name INTEGER NOT NULL,\n",
    "x TEXT NOT NULL,\n",
    "y TEXT NOT NULL,\n",
    "datetime TEXT NOT NULL\n",
    ")\n",
    "''')\n",
    "\n",
    "# Сохраняем изменения и закрываем соединение\n",
    "connection.commit()\n",
    "connection.close()"
   ]
  },
  {
   "cell_type": "markdown",
   "id": "scientific-constraint",
   "metadata": {},
   "source": [
    "# Автоматический сбор данных через паттер Наблюдатель \"Observer\""
   ]
  },
  {
   "cell_type": "code",
   "execution_count": 7,
   "id": "hybrid-telling",
   "metadata": {},
   "outputs": [],
   "source": [
    "import datetime\n",
    "import sqlite3\n",
    "\n",
    "# создаем объект работы с локальной БД Sqlite\n",
    "connection = sqlite3.connect('train_database.db')\n",
    "# устанавливаем соединение с локальной базой данных\n",
    "cursor = connection.cursor()\n",
    "\n",
    "def call_back_for_observer_axes(change):\n",
    "    if change['new']:\n",
    "        x = controller.axes[0].value\n",
    "        y = controller.axes[3].value * -1 \n",
    "        x_slider.value = x\n",
    "        y_slider.value = y\n",
    "        \n",
    "        # save to disk\n",
    "        filename = dataset.save_entry(category_widget.value, camera.value, x, y)\n",
    "    \n",
    "        # Добавляем новую строку данных об процессе обучения\n",
    "        cursor.execute('INSERT INTO TrainData (task, category, dataset, file_name, x, y, datetime) VALUES (?, ?, ?, ?, ?, ?, ?)', \n",
    "            (\n",
    "                TASK, # задача\n",
    "                category_widget.value, # категория\n",
    "                dataset_widget.value, # dataset\n",
    "                filename, # наименование файла\n",
    "                str(x), # значение координат по оси Х\n",
    "                str(y), # значение координат по оси Y \n",
    "                datetime.datetime.now(), # точка времени\n",
    "            )\n",
    "        )\n",
    "        \n",
    "        # Сохраняем изменения в локальной БД Sqlite3\n",
    "        connection.commit()\n",
    "    \n",
    "        count_widget.value = dataset.get_count(category_widget.value)\n",
    "        \n",
    "controller.axes[0].observe(call_back_for_observer_axes, names='value')\n",
    "controller.axes[3].observe(call_back_for_observer_axes, names='value') "
   ]
  },
  {
   "cell_type": "markdown",
   "id": "level-istanbul",
   "metadata": {},
   "source": [
    "# Автоматический сбор данных в цикле с выделенным потоком"
   ]
  },
  {
   "cell_type": "code",
   "execution_count": 8,
   "id": "million-australian",
   "metadata": {},
   "outputs": [],
   "source": [
    "import threading\n",
    "import time\n",
    "import datetime\n",
    "import sqlite3\n",
    "\n",
    "\n",
    "def loop_func_record_data(state_widget, controller, dataset, x_slider, y_slider, count_widget, task, category_widget, dataset_widget):\n",
    "    # создаем объект работы с локальной БД Sqlite\n",
    "    connection = sqlite3.connect('train_database.db')\n",
    "    # устанавливаем соединение с локальной базой данных\n",
    "    cursor = connection.cursor()\n",
    "    while state_widget.value == \"start\":\n",
    "        time.sleep(0.1) # задержка для меньшей чистоты кадров\n",
    "        x = controller.axes[0].value\n",
    "        y = controller.axes[3].value * -1 \n",
    "        x_slider.value = x\n",
    "        y_slider.value = y\n",
    "        \n",
    "        # save to disk   \n",
    "        filename = dataset.save_entry(category_widget.value, camera.value, x, y)\n",
    "        \n",
    "        # сохранение в локльной БД Sqlite3\n",
    "                       \n",
    "        # Добавляем новую строку данных об процессе обучения\n",
    "        cursor.execute('INSERT INTO TrainData (task, category, dataset, file_name, x, y, datetime) VALUES (?, ?, ?, ?, ?, ?, ?)', \n",
    "            (\n",
    "                task, # задача\n",
    "                category_widget.value, # категория\n",
    "                dataset_widget.value, # dataset\n",
    "                filename, # наименование файла\n",
    "                str(x), # значение координат по оси Х\n",
    "                str(y), # значение координат по оси Y \n",
    "                datetime.datetime.now(), # точка времени\n",
    "            )\n",
    "        )\n",
    "        \n",
    "        # Сохраняем изменения в локальной БД Sqlite3\n",
    "        connection.commit()\n",
    "        \n",
    "        count_widget.value = dataset.get_count(category_widget.value)\n",
    "    \n",
    "def start_live(change):\n",
    "    if change['new'] == 'start':\n",
    "        execute_thread = threading.Thread(target=loop_func_record_data, \n",
    "                args=(state_widget, controller, dataset, x_slider, y_slider, count_widget, TASK, category_widget, dataset_widget))\n",
    "        execute_thread.start()\n",
    "    \n",
    "state_widget.observe(start_live, names='value')"
   ]
  },
  {
   "cell_type": "code",
   "execution_count": 6,
   "id": "flying-miami",
   "metadata": {},
   "outputs": [],
   "source": []
  },
  {
   "cell_type": "code",
   "execution_count": null,
   "id": "fifth-diploma",
   "metadata": {},
   "outputs": [],
   "source": []
  }
 ],
 "metadata": {
  "kernelspec": {
   "display_name": "Python 3",
   "language": "python",
   "name": "python3"
  },
  "language_info": {
   "codemirror_mode": {
    "name": "ipython",
    "version": 3
   },
   "file_extension": ".py",
   "mimetype": "text/x-python",
   "name": "python",
   "nbconvert_exporter": "python",
   "pygments_lexer": "ipython3",
   "version": "3.6.9"
  }
 },
 "nbformat": 4,
 "nbformat_minor": 5
}
