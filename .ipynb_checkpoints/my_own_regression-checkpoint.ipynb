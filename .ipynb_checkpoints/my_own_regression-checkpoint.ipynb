{
 "cells": [
  {
   "cell_type": "markdown",
   "id": "acceptable-poster",
   "metadata": {},
   "source": [
    "# Задача"
   ]
  },
  {
   "cell_type": "code",
   "execution_count": 1,
   "id": "loved-michael",
   "metadata": {},
   "outputs": [],
   "source": [
    "import torchvision.transforms as transforms\n",
    "from xy_dataset import XYDataset\n",
    "\n",
    "TASK = 'road_following'\n",
    "\n",
    "CATEGORIES = ['apex']\n",
    "\n",
    "DATASETS = ['A', 'B', \"automatic\", \"automatic_mini\"]\n",
    "\n",
    "TRANSFORMS = transforms.Compose([\n",
    "    transforms.ColorJitter(0.2, 0.2, 0.2, 0.2),\n",
    "    transforms.Resize((224, 224)),\n",
    "    transforms.ToTensor(),\n",
    "    transforms.Normalize([0.485, 0.456, 0.406], [0.229, 0.224, 0.225])\n",
    "])\n",
    "\n",
    "datasets = {}\n",
    "for name in DATASETS:\n",
    "    datasets[name] = XYDataset(TASK + '_' + name, CATEGORIES, TRANSFORMS, random_hflip=True)\n",
    "    \n",
    "# initialize active dataset\n",
    "dataset = datasets[DATASETS[0]]"
   ]
  },
  {
   "cell_type": "markdown",
   "id": "sublime-silicon",
   "metadata": {},
   "source": [
    "# Dataset widget"
   ]
  },
  {
   "cell_type": "code",
   "execution_count": 2,
   "id": "blank-capability",
   "metadata": {},
   "outputs": [
    {
     "data": {
      "application/vnd.jupyter.widget-view+json": {
       "model_id": "02618233acf0488a9edb2fc806f8d4b9",
       "version_major": 2,
       "version_minor": 0
      },
      "text/plain": [
       "VBox(children=(Dropdown(description='dataset', options=('A', 'B', 'automatic', 'automatic_mini'), value='A'), …"
      ]
     },
     "metadata": {},
     "output_type": "display_data"
    }
   ],
   "source": [
    "import ipywidgets\n",
    "\n",
    "\n",
    "# create widgets\n",
    "dataset_widget = ipywidgets.Dropdown(options=DATASETS, description='dataset')\n",
    "category_widget = ipywidgets.Dropdown(options=dataset.categories, description='category')\n",
    "count_widget = ipywidgets.IntText(description='count')\n",
    "\n",
    "# manually update counts at initialization\n",
    "count_widget.value = dataset.get_count(category_widget.value)\n",
    "\n",
    "# sets the active dataset\n",
    "def set_dataset(change):\n",
    "    global dataset\n",
    "    dataset = datasets[change['new']]\n",
    "    count_widget.value = dataset.get_count(category_widget.value)\n",
    "dataset_widget.observe(set_dataset, names='value')\n",
    "\n",
    "# update counts when we select a new category\n",
    "def update_counts(change):\n",
    "    count_widget.value = dataset.get_count(change['new'])\n",
    "category_widget.observe(update_counts, names='value')\n",
    "\n",
    "data_collection_widget = ipywidgets.VBox([\n",
    "    dataset_widget,\n",
    "    category_widget,\n",
    "    count_widget\n",
    "])\n",
    "\n",
    "display(data_collection_widget)"
   ]
  },
  {
   "cell_type": "markdown",
   "id": "constitutional-strap",
   "metadata": {},
   "source": [
    "# Model"
   ]
  },
  {
   "cell_type": "code",
   "execution_count": 3,
   "id": "express-highlight",
   "metadata": {},
   "outputs": [
    {
     "name": "stderr",
     "output_type": "stream",
     "text": [
      "Downloading: \"https://download.pytorch.org/models/squeezenet1_1-f364aa15.pth\" to /home/jetson/.cache/torch/hub/checkpoints/squeezenet1_1-f364aa15.pth\n",
      "100.0%\n"
     ]
    },
    {
     "data": {
      "application/vnd.jupyter.widget-view+json": {
       "model_id": "b1394dd6bcd74ab58eac716e1f933ac5",
       "version_major": 2,
       "version_minor": 0
      },
      "text/plain": [
       "VBox(children=(Text(value='road_following_model.pth', description='model path'), HBox(children=(Button(descrip…"
      ]
     },
     "metadata": {},
     "output_type": "display_data"
    }
   ],
   "source": [
    "import torch\n",
    "import torchvision\n",
    "import ipywidgets\n",
    "\n",
    "\n",
    "device = torch.device('cuda')\n",
    "output_dim = 2 * len(dataset.categories)  # x, y coordinate for each category\n",
    "\n",
    "# ALEXNET\n",
    "# model = torchvision.models.alexnet(pretrained=True)\n",
    "# model.classifier[-1] = torch.nn.Linear(4096, output_dim)\n",
    "\n",
    "# SQUEEZENET \n",
    "model = torchvision.models.squeezenet1_1(pretrained=True)\n",
    "model.classifier[1] = torch.nn.Conv2d(512, output_dim, kernel_size=1)\n",
    "model.num_classes = len(dataset.categories)\n",
    "\n",
    "# RESNET 18\n",
    "# model = torchvision.models.resnet18(pretrained=True)\n",
    "# model.fc = torch.nn.Linear(512, output_dim)\n",
    "\n",
    "# RESNET 34\n",
    "# model = torchvision.models.resnet34(pretrained=True)\n",
    "# model.fc = torch.nn.Linear(512, output_dim)\n",
    "\n",
    "# DENSENET 121\n",
    "# model = torchvision.models.densenet121(pretrained=True)\n",
    "# model.classifier = torch.nn.Linear(model.num_features, output_dim)\n",
    "\n",
    "model = model.to(device)\n",
    "\n",
    "model_save_button = ipywidgets.Button(description='save model')\n",
    "model_load_button = ipywidgets.Button(description='load model')\n",
    "model_path_widget = ipywidgets.Text(description='model path', value='road_following_model.pth')\n",
    "\n",
    "def load_model(c):\n",
    "    model.load_state_dict(torch.load(model_path_widget.value))\n",
    "model_load_button.on_click(load_model)\n",
    "    \n",
    "def save_model(c):\n",
    "    torch.save(model.state_dict(), model_path_widget.value)\n",
    "model_save_button.on_click(save_model)\n",
    "\n",
    "model_widget = ipywidgets.VBox([\n",
    "    model_path_widget,\n",
    "    ipywidgets.HBox([model_load_button, model_save_button])\n",
    "])\n",
    "\n",
    "\n",
    "display(model_widget)"
   ]
  },
  {
   "cell_type": "markdown",
   "id": "dutch-channel",
   "metadata": {},
   "source": [
    "# Создание БД для работы в Python с базой данных Sqlite для записи процесса обучения модели"
   ]
  },
  {
   "cell_type": "code",
   "execution_count": 4,
   "id": "indoor-marijuana",
   "metadata": {},
   "outputs": [],
   "source": [
    "import sqlite3, datetime\n",
    "\n",
    "connection = sqlite3.connect('train_database.db')\n",
    "\n",
    "cursor = connection.cursor()\n",
    "\n",
    "# Создаем таблицу TrainDataProcess для сохранения данных в процессе обучения модели\n",
    "cursor.execute('''\n",
    "CREATE TABLE IF NOT EXISTS TrainDataProcess (\n",
    "id INTEGER PRIMARY KEY,\n",
    "name_train TEXT NOT NULL,\n",
    "model TEXT NOT NULL,\n",
    "optimizer TEXT NOT NULL,\n",
    "count_imgs INTEGER NOT NULL,\n",
    "batch_size INTEGER NOT NULL,\n",
    "epoch INTEGER NOT NULL,\n",
    "epoch_all INTEGER NOT NULL,\n",
    "datetime TEXT NOT NULL,\n",
    "loss_epoch REAL NOT NULL\n",
    ")\n",
    "''')\n",
    "\n",
    "# Сохраняем изменения и закрываем соединение\n",
    "connection.commit()\n",
    "connection.close()"
   ]
  },
  {
   "cell_type": "markdown",
   "id": "tracked-trinidad",
   "metadata": {},
   "source": [
    "# Обучение "
   ]
  },
  {
   "cell_type": "code",
   "execution_count": 5,
   "id": "purple-bracket",
   "metadata": {},
   "outputs": [
    {
     "data": {
      "application/vnd.jupyter.widget-view+json": {
       "model_id": "02618233acf0488a9edb2fc806f8d4b9",
       "version_major": 2,
       "version_minor": 0
      },
      "text/plain": [
       "VBox(children=(Dropdown(description='dataset', index=3, options=('A', 'B', 'automatic', 'automatic_mini'), val…"
      ]
     },
     "metadata": {},
     "output_type": "display_data"
    },
    {
     "data": {
      "application/vnd.jupyter.widget-view+json": {
       "model_id": "cfcf7ab74063421bbf068acf3bbe256a",
       "version_major": 2,
       "version_minor": 0
      },
      "text/plain": [
       "VBox(children=(IntText(value=1, description='epochs'), FloatProgress(value=0.0, description='progress', max=1.…"
      ]
     },
     "metadata": {},
     "output_type": "display_data"
    },
    {
     "data": {
      "application/vnd.jupyter.widget-view+json": {
       "model_id": "b1394dd6bcd74ab58eac716e1f933ac5",
       "version_major": 2,
       "version_minor": 0
      },
      "text/plain": [
       "VBox(children=(Text(value='road_following_model.pth', description='model path'), HBox(children=(Button(descrip…"
      ]
     },
     "metadata": {},
     "output_type": "display_data"
    }
   ],
   "source": [
    "import time\n",
    "import sqlite3, datetime\n",
    "\n",
    "# создаем объект работы с локальной БД Sqlite\n",
    "connection = sqlite3.connect('train_database.db')\n",
    "\n",
    "BATCH_SIZE = 8\n",
    "\n",
    "optimizer = torch.optim.Adam(model.parameters())\n",
    "# optimizer = torch.optim.SGD(model.parameters(), lr=1e-3, momentum=0.9)\n",
    "\n",
    "epochs_widget = ipywidgets.IntText(description='epochs', value=1)\n",
    "eval_button = ipywidgets.Button(description='evaluate')\n",
    "train_button = ipywidgets.Button(description='train')\n",
    "loss_widget = ipywidgets.FloatText(description='loss')\n",
    "progress_widget = ipywidgets.FloatProgress(min=0.0, max=1.0, description='progress')\n",
    "\n",
    "# добавляем виджет который будет принимать значение имени обучения\n",
    "name_train_model_widget = ipywidgets.Text(description='имя теста', value='укажите название тестирования')\n",
    "\n",
    "\n",
    "def train_eval(is_training):\n",
    "    global BATCH_SIZE, LEARNING_RATE, MOMENTUM, model, dataset, optimizer, eval_button, train_button, accuracy_widget, loss_widget, progress_widget\n",
    "    \n",
    "    # запоминаем начальное кол-во эпох\n",
    "    initial_epoch = epochs_widget.value\n",
    "\n",
    "    try:\n",
    "        \n",
    "        # устанавливаем соединение с локальной базой данных\n",
    "        cursor = connection.cursor()\n",
    "        \n",
    "        train_loader = torch.utils.data.DataLoader(\n",
    "            dataset,\n",
    "            batch_size=BATCH_SIZE,\n",
    "            shuffle=True\n",
    "        )\n",
    "\n",
    "        train_button.disabled = True\n",
    "        eval_button.disabled = True\n",
    "        time.sleep(1)\n",
    "\n",
    "        if is_training:\n",
    "            model = model.train()\n",
    "        else:\n",
    "            model = model.eval()\n",
    "\n",
    "        while epochs_widget.value > 0:\n",
    "            i = 0\n",
    "            sum_loss = 0.0\n",
    "            error_count = 0.0\n",
    "            for images, category_idx, xy in iter(train_loader):\n",
    "                # send data to device\n",
    "                images = images.to(device)\n",
    "                xy = xy.to(device)\n",
    "\n",
    "                if is_training:\n",
    "                    # zero gradients of parameters\n",
    "                    optimizer.zero_grad()\n",
    "\n",
    "                # execute model to get outputs\n",
    "                outputs = model(images)\n",
    "\n",
    "                # compute MSE loss over x, y coordinates for associated categories\n",
    "                loss = 0.0\n",
    "                for batch_idx, cat_idx in enumerate(list(category_idx.flatten())):\n",
    "                    loss += torch.mean((outputs[batch_idx][2 * cat_idx:2 * cat_idx+2] - xy[batch_idx])**2)\n",
    "                loss /= len(category_idx)\n",
    "\n",
    "                if is_training:\n",
    "                    # run backpropogation to accumulate gradients\n",
    "                    loss.backward()\n",
    "\n",
    "                    # step optimizer to adjust parameters\n",
    "                    optimizer.step()\n",
    "\n",
    "                # increment progress\n",
    "                count = len(category_idx.flatten())\n",
    "                i += count\n",
    "                sum_loss += float(loss)\n",
    "                progress_widget.value = i / len(dataset)\n",
    "                loss_widget.value = sum_loss / i\n",
    "                \n",
    "                \n",
    "                # Добавляем новую строку данных об процессе обучения\n",
    "                cursor.execute('INSERT INTO TrainDataProcess (name_train, model, optimizer, count_imgs, batch_size, epoch, epoch_all, datetime, loss_epoch) VALUES (?, ?, ?, ?, ?, ?, ?, ?, ?)', \n",
    "                    (name_train_model_widget.value, \n",
    "                     type(model).__name__, # наименование используемой сети\n",
    "                     type(optimizer).__name__, # наименование оптимайзера в модели\n",
    "                     count_widget.value, # кол-во изображений\n",
    "                     BATCH_SIZE, # batch size\n",
    "                     epochs_widget.value, # номер эпохи обучения\n",
    "                     initial_epoch, # кол-во эпох\n",
    "                     datetime.datetime.now(), # точка времени окончания обучения в конкретной эпохи\n",
    "                     loss_widget.value) # результат функции потерь\n",
    "                )\n",
    "                \n",
    "                # Сохраняем изменения в локальной БД Sqlite3\n",
    "                connection.commit()\n",
    "                \n",
    "            if is_training:\n",
    "                epochs_widget.value = epochs_widget.value - 1\n",
    "            else:\n",
    "                break\n",
    "\n",
    "        # закрываем соединение с локальной базой данных Sqlite3\n",
    "        connection.close()\n",
    "\n",
    "    except e:\n",
    "        pass\n",
    "    model = model.eval()\n",
    "\n",
    "    train_button.disabled = False\n",
    "    eval_button.disabled = False\n",
    "    \n",
    "train_button.on_click(lambda c: train_eval(is_training=True))\n",
    "eval_button.on_click(lambda c: train_eval(is_training=False))\n",
    "    \n",
    "train_eval_widget = ipywidgets.VBox([\n",
    "    epochs_widget,\n",
    "    progress_widget,\n",
    "    loss_widget,\n",
    "    ipywidgets.HBox([train_button, eval_button]),\n",
    "    name_train_model_widget\n",
    "])\n",
    "\n",
    "display(data_collection_widget, train_eval_widget, model_widget)"
   ]
  },
  {
   "cell_type": "code",
   "execution_count": null,
   "id": "quantitative-accountability",
   "metadata": {},
   "outputs": [],
   "source": []
  }
 ],
 "metadata": {
  "kernelspec": {
   "display_name": "Python 3",
   "language": "python",
   "name": "python3"
  },
  "language_info": {
   "codemirror_mode": {
    "name": "ipython",
    "version": 3
   },
   "file_extension": ".py",
   "mimetype": "text/x-python",
   "name": "python",
   "nbconvert_exporter": "python",
   "pygments_lexer": "ipython3",
   "version": "3.6.9"
  }
 },
 "nbformat": 4,
 "nbformat_minor": 5
}
